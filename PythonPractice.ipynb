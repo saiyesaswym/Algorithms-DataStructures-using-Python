{
 "cells": [
  {
   "cell_type": "code",
   "execution_count": 4,
   "id": "protective-lewis",
   "metadata": {},
   "outputs": [],
   "source": [
    "import math\n",
    "\n",
    "def utilizationCheck(instances, avgutil):\n",
    "    flag=0\n",
    "    for i in avgutil:\n",
    "        if i<25 and flag==0:\n",
    "            instances = math.ceil(instances/2)\n",
    "            flag=10\n",
    "        elif i>60 and flag==0 and instances<=108:\n",
    "            instances = instances*2\n",
    "            flag=10\n",
    "        else:\n",
    "            if flag>0:\n",
    "                flag-=1\n",
    "    return instances"
   ]
  },
  {
   "cell_type": "code",
   "execution_count": 5,
   "id": "medical-agreement",
   "metadata": {},
   "outputs": [
    {
     "data": {
      "text/plain": [
       "2"
      ]
     },
     "execution_count": 5,
     "metadata": {},
     "output_type": "execute_result"
    }
   ],
   "source": [
    "instances = 2\n",
    "avgutil = [25,23,1,2,3,4,5,6,7,8,9,10,76,80]\n",
    "\n",
    "utilizationCheck(instances, avgutil)"
   ]
  },
  {
   "cell_type": "code",
   "execution_count": 1,
   "id": "apparent-oxford",
   "metadata": {},
   "outputs": [],
   "source": [
    "def numPlayers(scores,k):\n",
    "    scores.sort(reverse=True)\n",
    "    base = scores[0]\n",
    "    rank = 1\n",
    "    count = 0\n",
    "    for i in scores:\n",
    "        if i==base:\n",
    "            pass\n",
    "        else:\n",
    "            rank+=1\n",
    "            base=i\n",
    "        if rank<=k:\n",
    "            count+=1\n",
    "    return count"
   ]
  },
  {
   "cell_type": "code",
   "execution_count": 2,
   "id": "chief-sociology",
   "metadata": {},
   "outputs": [
    {
     "name": "stdout",
     "output_type": "stream",
     "text": [
      "10\n"
     ]
    }
   ],
   "source": [
    "print(numPlayers([5,10,25,75,75,100,100,100,200,200,200,200,200], 3))"
   ]
  },
  {
   "cell_type": "code",
   "execution_count": 18,
   "id": "bridal-maldives",
   "metadata": {},
   "outputs": [
    {
     "name": "stdout",
     "output_type": "stream",
     "text": [
      "8\n"
     ]
    }
   ],
   "source": [
    "print(numPlayers([5,10,25,75,75,100,100,100,100,100], 3))"
   ]
  },
  {
   "cell_type": "code",
   "execution_count": 3,
   "id": "expensive-vatican",
   "metadata": {},
   "outputs": [
    {
     "data": {
      "text/plain": [
       "5"
      ]
     },
     "execution_count": 3,
     "metadata": {},
     "output_type": "execute_result"
    }
   ],
   "source": [
    "cutOffRank = 4\n",
    "num=5\n",
    "scores=[2,2,3,4,5]\n",
    "numPlayers(scores,cutOffRank)"
   ]
  },
  {
   "cell_type": "code",
   "execution_count": 12,
   "id": "christian-replica",
   "metadata": {},
   "outputs": [],
   "source": [
    "def cutOffRank(k, scores):\n",
    "    if k==0: \n",
    "        return 0\n",
    "    \n",
    "    cache = [0 for _ in range(101)]\n",
    "    for i in scores:\n",
    "        cache[i]+=1\n",
    "\n",
    "    res=0\n",
    "    for i in range(100,0,-1):\n",
    "        if k<=0:\n",
    "            break\n",
    "        k-=cache[i]\n",
    "        res+=cache[i]\n",
    "    return res"
   ]
  },
  {
   "cell_type": "code",
   "execution_count": 13,
   "id": "fuzzy-phase",
   "metadata": {},
   "outputs": [
    {
     "data": {
      "text/plain": [
       "5"
      ]
     },
     "execution_count": 13,
     "metadata": {},
     "output_type": "execute_result"
    }
   ],
   "source": [
    "k = 4\n",
    "num=5\n",
    "scores=[2,2,3,4,5]\n",
    "cutOffRank(k,scores)"
   ]
  },
  {
   "cell_type": "code",
   "execution_count": 17,
   "id": "technological-replacement",
   "metadata": {},
   "outputs": [
    {
     "data": {
      "text/plain": [
       "5"
      ]
     },
     "execution_count": 17,
     "metadata": {},
     "output_type": "execute_result"
    }
   ],
   "source": [
    "cutOffRank(3, [5,10,25,75,75,100,100,100,100,100])"
   ]
  },
  {
   "cell_type": "code",
   "execution_count": 21,
   "id": "chubby-forge",
   "metadata": {},
   "outputs": [],
   "source": [
    "def numPlayers2(scores, k):\n",
    "    scores.sort(reverse=True)\n",
    "    playerRanking = [1]\n",
    "    lenScores = len(scores)\n",
    "    for i in range(1, lenScores):\n",
    "        if scores[i] == scores[i-1]:\n",
    "            playerRanking.append(playerRanking[i-1])\n",
    "        else:\n",
    "            playerRanking.append(playerRanking[i-1]+1)\n",
    "        \n",
    "    while playerRanking[i] > k:\n",
    "        i -= 1\n",
    "\n",
    "    return i+1"
   ]
  },
  {
   "cell_type": "code",
   "execution_count": 22,
   "id": "powerful-telescope",
   "metadata": {},
   "outputs": [
    {
     "name": "stdout",
     "output_type": "stream",
     "text": [
      "8\n"
     ]
    }
   ],
   "source": [
    "print(numPlayers2([5,10,25,75,75,100,100,100,100,100], 3))"
   ]
  },
  {
   "cell_type": "code",
   "execution_count": 25,
   "id": "alleged-watershed",
   "metadata": {},
   "outputs": [
    {
     "name": "stdout",
     "output_type": "stream",
     "text": [
      "[1, 1, 2, 2, 3, 4, 5, 6, 7]\n",
      "7\n"
     ]
    }
   ],
   "source": [
    "def maxFinial(arr):\n",
    "    # sort the array in ascending order\n",
    "    arr.sort()\n",
    "\n",
    "    # the first element should be 1\n",
    "    arr[0] = 1\n",
    "\n",
    "    for i in range(1, len(arr)):\n",
    "        if arr[i] > arr[i - 1]:\n",
    "            arr[i] = arr[i - 1] + 1\n",
    "    \n",
    "    print(arr)\n",
    "    return arr[-1]\n",
    "\n",
    "\n",
    "if __name__ == '__main__':\n",
    "    arr = [1, 1, 2, 3, 7, 5, 6, 2, 45]\n",
    "\n",
    "    res = maxFinial(arr)\n",
    "    print(res)\n"
   ]
  },
  {
   "cell_type": "code",
   "execution_count": null,
   "id": "synthetic-physiology",
   "metadata": {},
   "outputs": [],
   "source": []
  },
  {
   "cell_type": "code",
   "execution_count": 67,
   "id": "continental-belfast",
   "metadata": {},
   "outputs": [],
   "source": [
    "def winningSequence(num, lowerEnd, upperEnd):\n",
    "    diff = upperEnd - lowerEnd\n",
    "    \n",
    "    if num>(diff*2)+1:\n",
    "        return None\n",
    "    \n",
    "    res=[]\n",
    "    res.append(upperEnd-1)\n",
    "    val = upperEnd\n",
    "    while val>=lowerEnd and len(res)<num:\n",
    "        res.append(val)\n",
    "        val-=1\n",
    "    \n",
    "    rem=num-len(res)\n",
    "    res2=[]\n",
    "    val = upperEnd-1-rem\n",
    "    res2=[i for i in range(val,upperEnd-1)]\n",
    "    return res2+res"
   ]
  },
  {
   "cell_type": "code",
   "execution_count": 78,
   "id": "vocal-count",
   "metadata": {},
   "outputs": [
    {
     "data": {
      "text/plain": [
       "[8, 9, 10, 9, 8, 7, 6, 5, 4, 3]"
      ]
     },
     "execution_count": 78,
     "metadata": {},
     "output_type": "execute_result"
    }
   ],
   "source": [
    "winningSequence(10,3,10)"
   ]
  },
  {
   "cell_type": "code",
   "execution_count": null,
   "id": "terminal-governor",
   "metadata": {},
   "outputs": [],
   "source": []
  },
  {
   "cell_type": "code",
   "execution_count": 79,
   "id": "whole-behalf",
   "metadata": {},
   "outputs": [],
   "source": [
    "def roverMove(n, cmds):\n",
    "    r=0\n",
    "    c=0\n",
    "    for cmd in cmds:\n",
    "        if cmd=='RIGHT' and c<n-1:\n",
    "            c+=1\n",
    "        elif cmd=='LEFT' and c>0:\n",
    "            c-=1\n",
    "        elif cmd=='UP' and r>0:\n",
    "            r-=1\n",
    "        elif cmd=='DOWN' and r<n-1:\n",
    "            r+=1\n",
    "    \n",
    "    return (r*n)+c"
   ]
  },
  {
   "cell_type": "code",
   "execution_count": 80,
   "id": "great-extension",
   "metadata": {},
   "outputs": [
    {
     "data": {
      "text/plain": [
       "8"
      ]
     },
     "execution_count": 80,
     "metadata": {},
     "output_type": "execute_result"
    }
   ],
   "source": [
    "n=4\n",
    "cmds = ['RIGHT', 'DOWN', 'LEFT', 'LEFT', 'DOWN']\n",
    "roverMove(n,cmds)"
   ]
  },
  {
   "cell_type": "code",
   "execution_count": 81,
   "id": "blind-doubt",
   "metadata": {},
   "outputs": [
    {
     "data": {
      "text/plain": [
       "12"
      ]
     },
     "execution_count": 81,
     "metadata": {},
     "output_type": "execute_result"
    }
   ],
   "source": [
    "commands = [\"RIGHT\", \"UP\", \"DOWN\", \"LEFT\", \"DOWN\", \"DOWN\"]\n",
    "roverMove(n,commands)"
   ]
  },
  {
   "cell_type": "code",
   "execution_count": 82,
   "id": "electric-robinson",
   "metadata": {},
   "outputs": [
    {
     "data": {
      "text/plain": [
       "2"
      ]
     },
     "execution_count": 82,
     "metadata": {},
     "output_type": "execute_result"
    }
   ],
   "source": [
    "n=2\n",
    "cmds = ['RIGHT', 'DOWN', 'LEFT', 'LEFT', 'DOWN']\n",
    "roverMove(n,cmds)"
   ]
  },
  {
   "cell_type": "code",
   "execution_count": null,
   "id": "settled-tamil",
   "metadata": {},
   "outputs": [],
   "source": []
  },
  {
   "cell_type": "code",
   "execution_count": 86,
   "id": "entertaining-lewis",
   "metadata": {},
   "outputs": [],
   "source": [
    "logdata = [[\"345366 89921 45\"],\n",
    "[\"029323 38239 23\"],\n",
    "[\"38239 345366 15\"],\n",
    "[\"029323 38239 77\"],\n",
    "[\"345366 38239 23\"],\n",
    "[\"029323 345366 13\"],\n",
    "[\"38239 38239 23\"]]"
   ]
  },
  {
   "cell_type": "code",
   "execution_count": 113,
   "id": "tender-partition",
   "metadata": {},
   "outputs": [],
   "source": [
    "def translogs(logs, threshold):\n",
    "    logcount={}\n",
    "    for i in logs:\n",
    "        log = i[0].split(\" \")\n",
    "        if log[0] in logcount:\n",
    "            logcount[log[0]]+=1\n",
    "        else:\n",
    "            logcount[log[0]]=1\n",
    "        if log[0]!=log[1]:\n",
    "            if log[1] in logcount:\n",
    "                logcount[log[1]]+=1\n",
    "            else:\n",
    "                logcount[log[1]]=1\n",
    "    \n",
    "    userIds=[]\n",
    "    for i in logcount:\n",
    "        if logcount[i]>=threshold:\n",
    "            userIds.append(i)\n",
    "    \n",
    "    userIds.sort(key=int)\n",
    "    \n",
    "    return userIds\n",
    "        "
   ]
  },
  {
   "cell_type": "code",
   "execution_count": 114,
   "id": "occasional-party",
   "metadata": {},
   "outputs": [
    {
     "data": {
      "text/plain": [
       "['029323', '38239', '345366']"
      ]
     },
     "execution_count": 114,
     "metadata": {},
     "output_type": "execute_result"
    }
   ],
   "source": [
    "translogs(logdata, 3)"
   ]
  },
  {
   "cell_type": "code",
   "execution_count": null,
   "id": "transparent-watts",
   "metadata": {},
   "outputs": [],
   "source": []
  },
  {
   "cell_type": "code",
   "execution_count": 116,
   "id": "minor-family",
   "metadata": {},
   "outputs": [],
   "source": [
    "from heapq import *"
   ]
  },
  {
   "cell_type": "code",
   "execution_count": 163,
   "id": "advanced-force",
   "metadata": {},
   "outputs": [],
   "source": [
    "def calculateThreshold(ratings):\n",
    "    return sum([p/t for _,p,t in ratings])/len(ratings)\n",
    "\n",
    "def fiveStarSeller(ratings, threshold):\n",
    "    pq=[]\n",
    "    for p,t in ratings:\n",
    "        heappush(pq, (p/t - (p+1)/(t+1), p, t))\n",
    "    \n",
    "    curr=calculateThreshold(pq)\n",
    "    count=0\n",
    "\n",
    "    while curr<threshold:\n",
    "        _,p,t = heappop(pq)\n",
    "        p+=1\n",
    "        t+=1\n",
    "\n",
    "        heappush(pq, (p/t - (p+1)/(t+1), p, t))\n",
    "        print(pq)\n",
    "\n",
    "        curr = calculateThreshold(pq)\n",
    "        count+=1\n",
    "    \n",
    "    return count"
   ]
  },
  {
   "cell_type": "code",
   "execution_count": 164,
   "id": "phantom-cradle",
   "metadata": {},
   "outputs": [
    {
     "name": "stdout",
     "output_type": "stream",
     "text": [
      "[(-0.08333333333333337, 2, 3), (-0.033333333333333326, 4, 5), (-0.050000000000000044, 3, 4)]\n",
      "[(-0.050000000000000044, 3, 4), (-0.033333333333333326, 4, 5), (-0.050000000000000044, 3, 4)]\n",
      "[(-0.050000000000000044, 3, 4), (-0.033333333333333326, 4, 5), (-0.033333333333333326, 4, 5)]\n",
      "[(-0.033333333333333326, 4, 5), (-0.033333333333333326, 4, 5), (-0.033333333333333326, 4, 5)]\n"
     ]
    },
    {
     "data": {
      "text/plain": [
       "4"
      ]
     },
     "execution_count": 164,
     "metadata": {},
     "output_type": "execute_result"
    }
   ],
   "source": [
    "fiveStarSeller([[3,4],[1,2],[4,5]], 0.8)"
   ]
  },
  {
   "cell_type": "code",
   "execution_count": 165,
   "id": "athletic-citizen",
   "metadata": {},
   "outputs": [],
   "source": [
    "class Solution:\n",
    "    def fiveStarReviews(self, productRatings, ratingsThreshold: float) -> int:\n",
    "        queue=[]\n",
    "        t=0\n",
    "        for [x, y] in productRatings:\n",
    "            heappush(queue, [(x-y)/(y*(y+1)), x, y])\n",
    "            t+=x/y\n",
    "        \n",
    "        N = len(productRatings)\n",
    "        count=0\n",
    "        T=ratingsThreshold*N\n",
    "\n",
    "        while t < T:\n",
    "            delta, x, y = heappop(queue) #delta is a negtive, \n",
    "            t+=-delta\n",
    "            heappush(queue, [(x-y)/((y+2)*(y+1)), x+1, y+1])\n",
    "            count+=1\n",
    "\n",
    "        return count\n",
    "\n",
    "    def fiveStarReviews2(self, productRatings, ratingsThreshold: float) -> int:\n",
    "        N=len(productRatings)\n",
    "        queue=[]\n",
    "        curRatingSum = 0\n",
    "        targetSum = N * ratingsThreshold\n",
    "        for [rv, tt] in productRatings:     #loop all [review, total]\n",
    "            delta = (rv+1)/(tt+1) - rv/tt   # calculate (rv+1)/(tt+1) - rv/tt\n",
    "            heappush(queue, [-delta, rv, tt])      #build a max-based heap, so using negtive sign here\n",
    "            curRatingSum += rv/tt\n",
    "        \n",
    "        count=0\n",
    "        while curRatingSum < targetSum:\n",
    "            print(curRatingSum)\n",
    "            count+=1\n",
    "            negDelta, rv, tt = heappop(queue)  #we get negtive delta value, \n",
    "            curRatingSum += -negDelta             #so we put '-' sign to make it positive\n",
    "            rv+=1\n",
    "            tt+=1\n",
    "            newDelta=(rv+1)/(tt+1) - rv/tt\n",
    "            heappush(queue, [-newDelta, rv, tt])     #push with new calculated delta\n",
    "            print(queue)\n",
    "        \n",
    "        return count"
   ]
  },
  {
   "cell_type": "code",
   "execution_count": 166,
   "id": "passing-verse",
   "metadata": {},
   "outputs": [
    {
     "name": "stdout",
     "output_type": "stream",
     "text": [
      "2.05\n",
      "[[-0.08333333333333337, 2, 3], [-0.033333333333333326, 4, 5], [-0.050000000000000044, 3, 4]]\n",
      "2.2166666666666663\n",
      "[[-0.050000000000000044, 3, 4], [-0.033333333333333326, 4, 5], [-0.050000000000000044, 3, 4]]\n",
      "2.3\n",
      "[[-0.050000000000000044, 3, 4], [-0.033333333333333326, 4, 5], [-0.033333333333333326, 4, 5]]\n",
      "2.3499999999999996\n",
      "[[-0.033333333333333326, 4, 5], [-0.033333333333333326, 4, 5], [-0.033333333333333326, 4, 5]]\n",
      "2.3999999999999995\n",
      "[[-0.033333333333333326, 4, 5], [-0.033333333333333326, 4, 5], [-0.023809523809523725, 5, 6]]\n"
     ]
    },
    {
     "data": {
      "text/plain": [
       "5"
      ]
     },
     "execution_count": 166,
     "metadata": {},
     "output_type": "execute_result"
    }
   ],
   "source": [
    "s=Solution()\n",
    "s.fiveStarReviews2([[3,4],[1,2],[4,5]], 0.8)"
   ]
  },
  {
   "cell_type": "code",
   "execution_count": 155,
   "id": "indoor-maple",
   "metadata": {},
   "outputs": [
    {
     "data": {
      "text/plain": [
       "5"
      ]
     },
     "execution_count": 155,
     "metadata": {},
     "output_type": "execute_result"
    }
   ],
   "source": [
    "s.fiveStarReviews([[3,4],[1,2],[4,5]], 0.8)"
   ]
  },
  {
   "cell_type": "code",
   "execution_count": 167,
   "id": "delayed-gates",
   "metadata": {},
   "outputs": [],
   "source": [
    "points = [[1,3],[-2,2]]"
   ]
  },
  {
   "cell_type": "code",
   "execution_count": 170,
   "id": "significant-delight",
   "metadata": {},
   "outputs": [
    {
     "name": "stdout",
     "output_type": "stream",
     "text": [
      "3.1622776601683795\n",
      "2.8284271247461903\n"
     ]
    }
   ],
   "source": [
    "for i,j in points:\n",
    "    print(math.sqrt(i*i + j*j))"
   ]
  },
  {
   "cell_type": "code",
   "execution_count": 174,
   "id": "quick-private",
   "metadata": {},
   "outputs": [],
   "source": [
    "table = [[0 for _ in range(n)] for _ in range(n)]"
   ]
  },
  {
   "cell_type": "code",
   "execution_count": 175,
   "id": "august-spread",
   "metadata": {},
   "outputs": [
    {
     "data": {
      "text/plain": [
       "[[0, 0], [0, 0]]"
      ]
     },
     "execution_count": 175,
     "metadata": {},
     "output_type": "execute_result"
    }
   ],
   "source": [
    "table"
   ]
  },
  {
   "cell_type": "code",
   "execution_count": 176,
   "id": "intellectual-finland",
   "metadata": {},
   "outputs": [],
   "source": [
    "nums = [0,3,7,2,5,8,4,6,0,1]"
   ]
  },
  {
   "cell_type": "code",
   "execution_count": 179,
   "id": "exempt-mixer",
   "metadata": {},
   "outputs": [],
   "source": [
    "list(set(nums)).sort()"
   ]
  },
  {
   "cell_type": "code",
   "execution_count": 183,
   "id": "imposed-reunion",
   "metadata": {},
   "outputs": [
    {
     "data": {
      "text/plain": [
       "[0, 1, 2, 3, 4, 5, 6, 7, 8]"
      ]
     },
     "execution_count": 183,
     "metadata": {},
     "output_type": "execute_result"
    }
   ],
   "source": [
    "sorted(list(set(nums)))"
   ]
  },
  {
   "cell_type": "code",
   "execution_count": null,
   "id": "major-vocabulary",
   "metadata": {},
   "outputs": [],
   "source": []
  },
  {
   "cell_type": "code",
   "execution_count": 184,
   "id": "horizontal-might",
   "metadata": {},
   "outputs": [],
   "source": [
    "cars = [12,6,5,2,]\n",
    "k=3"
   ]
  },
  {
   "cell_type": "code",
   "execution_count": 195,
   "id": "elementary-horror",
   "metadata": {},
   "outputs": [],
   "source": [
    "def min_roof(cars, k):\n",
    "    cars.sort()\n",
    "    min_roof = cars[-1]-cars[0]\n",
    "    k-=1\n",
    "    \n",
    "    for i in range(k,len(cars)):\n",
    "        min_roof = min(min_roof, (cars[i]-cars[i-k])+1)\n",
    "    \n",
    "    return min_roof"
   ]
  },
  {
   "cell_type": "code",
   "execution_count": 196,
   "id": "electric-structure",
   "metadata": {},
   "outputs": [
    {
     "data": {
      "text/plain": [
       "5"
      ]
     },
     "execution_count": 196,
     "metadata": {},
     "output_type": "execute_result"
    }
   ],
   "source": [
    "min_roof(cars, k)"
   ]
  },
  {
   "cell_type": "code",
   "execution_count": 198,
   "id": "adult-equality",
   "metadata": {},
   "outputs": [
    {
     "data": {
      "text/plain": [
       "1"
      ]
     },
     "execution_count": 198,
     "metadata": {},
     "output_type": "execute_result"
    }
   ],
   "source": [
    "min_roof([12,6], 1)"
   ]
  },
  {
   "cell_type": "code",
   "execution_count": null,
   "id": "golden-bahamas",
   "metadata": {},
   "outputs": [],
   "source": []
  }
 ],
 "metadata": {
  "kernelspec": {
   "display_name": "Python 3",
   "language": "python",
   "name": "python3"
  },
  "language_info": {
   "codemirror_mode": {
    "name": "ipython",
    "version": 3
   },
   "file_extension": ".py",
   "mimetype": "text/x-python",
   "name": "python",
   "nbconvert_exporter": "python",
   "pygments_lexer": "ipython3",
   "version": "3.9.1"
  }
 },
 "nbformat": 4,
 "nbformat_minor": 5
}
