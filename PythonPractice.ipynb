{
 "cells": [
  {
   "cell_type": "code",
   "execution_count": 13,
   "id": "protective-lewis",
   "metadata": {},
   "outputs": [],
   "source": [
    "import math\n",
    "\n",
    "def utilizationCheck(instances, avgutil):\n",
    "    flag=0\n",
    "    for i in avgutil:\n",
    "        if i<25 and flag==0:\n",
    "            instances = math.ceil(instances/2)\n",
    "            flag=10\n",
    "        elif i>60 and flag==0 and instances<=108:\n",
    "            instances = instances*2\n",
    "            flag=10\n",
    "        else:\n",
    "            if flag>0:\n",
    "                flag-=1\n",
    "    return instances"
   ]
  },
  {
   "cell_type": "code",
   "execution_count": 14,
   "id": "medical-agreement",
   "metadata": {},
   "outputs": [
    {
     "name": "stdout",
     "output_type": "stream",
     "text": [
      "2\n",
      "1\n",
      "1\n",
      "1\n",
      "1\n",
      "1\n",
      "1\n",
      "1\n",
      "1\n",
      "1\n",
      "1\n",
      "1\n",
      "2\n",
      "2\n"
     ]
    },
    {
     "data": {
      "text/plain": [
       "2"
      ]
     },
     "execution_count": 14,
     "metadata": {},
     "output_type": "execute_result"
    }
   ],
   "source": [
    "instances = 2\n",
    "avgutil = [25,23,1,2,3,4,5,6,7,8,9,10,76,80]\n",
    "\n",
    "utilizationCheck(instances, avgutil)"
   ]
  },
  {
   "cell_type": "code",
   "execution_count": 10,
   "id": "known-respect",
   "metadata": {},
   "outputs": [],
   "source": [
    "import math"
   ]
  },
  {
   "cell_type": "code",
   "execution_count": 12,
   "id": "boring-italian",
   "metadata": {},
   "outputs": [
    {
     "data": {
      "text/plain": [
       "6"
      ]
     },
     "execution_count": 12,
     "metadata": {},
     "output_type": "execute_result"
    }
   ],
   "source": [
    "math.ceil(11/2)"
   ]
  },
  {
   "cell_type": "code",
   "execution_count": null,
   "id": "chief-sociology",
   "metadata": {},
   "outputs": [],
   "source": []
  }
 ],
 "metadata": {
  "kernelspec": {
   "display_name": "Python 3",
   "language": "python",
   "name": "python3"
  },
  "language_info": {
   "codemirror_mode": {
    "name": "ipython",
    "version": 3
   },
   "file_extension": ".py",
   "mimetype": "text/x-python",
   "name": "python",
   "nbconvert_exporter": "python",
   "pygments_lexer": "ipython3",
   "version": "3.9.1"
  }
 },
 "nbformat": 4,
 "nbformat_minor": 5
}
